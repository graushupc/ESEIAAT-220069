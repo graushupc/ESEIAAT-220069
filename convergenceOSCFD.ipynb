{
 "cells": [
  {
   "cell_type": "markdown",
   "metadata": {},
   "source": [
    "# Convergence Validation\n",
    "\n",
    "G. Raush, 2022\\\n",
    "Department of Fluid Mechanics\\\n",
    "ESEIAAT-Terrassa\\\n",
    "UPC\n",
    "\n",
    "\n",
    "\n",
    "Performs several verification calculations given a file of grid spacings    and some observed quantity corresponding to each grid spacing.\n",
    " \n",
    "Computes:\n",
    "   - Order of convergence\n",
    "   - Richardson extrapolation to zero grid spacing\n",
    "   - grid convergence indices (GCI)\n",
    " \n",
    " --------------------------------------------------------------------------\n",
    " \n",
    "**Reference**:\n",
    "- [Celik, 2008] Celik, I. B., Ghia, U., Roache, P. J., Freitas, C. J., Coleman, H., & Raad, P. E. (2008). Procedure for estimation and reporting of uncertainty due to discretization in CFD applications. Journal of Fluids Engineering, Transactions of the ASME, 130(7), 0780011–0780014. https://doi.org/10.1115/1.2960953\n",
    "- Celik, I., Karatekin, O., 1997. Numerical Experiments on Application of Richardson Extrapolation With Nonuniform Grids. Journal of Fluids Engineering 119, 584–590. https://doi.org/10.1115/1.2819284\n",
    "- [Roache, 1998] Roache, P. J. (1998). Verification of codes and calculations. AIAA Journal, 36(5), 696–702. https://doi.org/10.2514/2.457\n",
    "- https://pypi.org/project/convergence/\n"
   ]
  },
  {
   "cell_type": "code",
   "execution_count": 8,
   "metadata": {},
   "outputs": [],
   "source": [
    "import math"
   ]
  },
  {
   "cell_type": "markdown",
   "metadata": {},
   "source": [
    "### Estimation of Discretization Error\n",
    "\n",
    "Representative cell could be defined over a grid size $h$, for three-dimensional numerics\n",
    "\n",
    "$$\n",
    "h = \\left[ \\frac{1}{N} \\sum_{i=1}^{N} \\left(\\Delta V_{i}\\right)\\right]^{1/3}\n",
    "$$\n",
    "\n",
    "For two dimensions,\n",
    "\n",
    "$$\n",
    "h = \\left[ \\frac{1}{N} \\sum_{i=1}^{N} \\left(\\Delta A_{i}\\right)\\right]^{1/2}\n",
    "$$\n"
   ]
  },
  {
   "cell_type": "markdown",
   "metadata": {},
   "source": [
    "### Order of Convergence\n",
    "\n",
    "\\begin{align}\n",
    "\\epsilon_{21} &= \\phi_2 - \\phi_1\\\\\n",
    "\\epsilon_{32} &= \\phi_3 - \\phi_2\\\\\n",
    "\\end{align}\n",
    "\n",
    "<!-- \\begin{equation}\n",
    "r = \\frac{\\epsilon_{32}}{\\epsilon_{21}}\n",
    "\\end{equation}\n",
    "-->"
   ]
  },
  {
   "cell_type": "markdown",
   "metadata": {},
   "source": [
    "\\begin{align}\n",
    "e_r &= \\frac{\\epsilon_{32}}{\\epsilon_{21}}\\\\\n",
    "s &= \\frac{e_r}{|e_r|}\\\\\n",
    "\\end{align}"
   ]
  },
  {
   "cell_type": "markdown",
   "metadata": {},
   "source": [
    "\\begin{align}\n",
    "r_{21} &= \\frac{\\phi_{2}}{\\phi_{1}}\\\\\n",
    "r_{32} &= \\frac{\\phi_{3}}{\\phi_{2}}\\\\\n",
    "\\end{align}"
   ]
  },
  {
   "cell_type": "markdown",
   "metadata": {},
   "source": [
    "$$ p_0 = \\frac{1}{\\ln r_{21}} \\left| \\ln \\left(\\left| e_r \\right| \\right) \\right|$$"
   ]
  },
  {
   "cell_type": "markdown",
   "metadata": {},
   "source": [
    "$$ q = \\ln \\left( \\frac{r_{21}^{p_0}- s}{r_{32}^{p_0} - s } \\right) $$"
   ]
  },
  {
   "cell_type": "markdown",
   "metadata": {},
   "source": [
    "$$ p_1 = \\frac{1}{\\ln r_{21}} \\left| \\ln \\left(\\left| e_r \\right| + q \\right) \\right| \\tag{1}$$"
   ]
  },
  {
   "cell_type": "markdown",
   "metadata": {},
   "source": [
    "Linear interpolation, $\\omega = 0.5$"
   ]
  },
  {
   "cell_type": "markdown",
   "metadata": {},
   "source": [
    "$$ p_{1_{new}} = \\left(1 - \\omega\\right) p_0 + \\omega p_1 $$\n"
   ]
  },
  {
   "cell_type": "code",
   "execution_count": 9,
   "metadata": {},
   "outputs": [],
   "source": [
    "def order_of_convergence (value_1, value_2, value_3, ratio_21, ratio_32, \n",
    "                          omega=0.5, tol=1.E-4): #, start_p=1.):\n",
    "                              \n",
    "    \"\"\" Calculate the order of convergence values generated with three\n",
    "    grids of reducing resolution (ie grid_1 is finest). The values of the grids\n",
    "    are needed along with the ratios between them.\n",
    "    \n",
    "    An iterative method with under-relaxation is used to calculate the order\n",
    "    of convergence as the refinement ratio is not necessarily constant.\n",
    "    \n",
    "    This has been modified to the method of Celik (2008).\n",
    "    \"\"\"\n",
    "    \n",
    "    # Set a maximum residual and number of iterations\n",
    "    max_res = 1.E6\n",
    "\n",
    "    # calculate the epsilons.\n",
    "    epsilon21 = float(value_2 - value_1)\n",
    "    epsilon32 = float(value_3 - value_2)\n",
    "\n",
    "    # Calculate the fraction\n",
    "    epfrac = epsilon32 / epsilon21\n",
    "    \n",
    "    # Get the signed unit, s\n",
    "    s = epfrac / abs(epfrac)\n",
    "    \n",
    "    # Initial guess at order of convergence, p\n",
    "    p1 = (1. / math.log(ratio_21)) * abs(math.log(abs(epfrac))) # start_p\n",
    "    \n",
    "    # Initialise the residual and number of iterations\n",
    "    residual = 1.\n",
    "    iterations = 0\n",
    "    \n",
    "    while abs(residual) > tol:\n",
    "    \n",
    "        # Break if it's all gone bad\n",
    "        if float(iterations) > max_res or residual > max_res:\n",
    "            ValueError('Residual out of range or too many iterations')\n",
    "        \n",
    "        # Get the last value\n",
    "        p0 = p1\n",
    "        \n",
    "        # Calculate q\n",
    "        q = math.log((ratio_21 ** p0 - s) / (ratio_32 ** p0 - s))\n",
    "        \n",
    "        # Calculate the p iteration\n",
    "        pnew = (1. / math.log(ratio_21)) * abs(math.log(abs(epfrac)) + q)\n",
    "        \n",
    "        # Calculate the relaxation step.\n",
    "        p1 = (1. - omega) * p0 + omega * pnew\n",
    "        \n",
    "        residual = p1 - p0\n",
    "        \n",
    "        iterations += 1\n",
    "        \n",
    "    return p1"
   ]
  },
  {
   "cell_type": "markdown",
   "metadata": {},
   "source": [
    "### Richardson's Extrapolation"
   ]
  },
  {
   "cell_type": "markdown",
   "metadata": {},
   "source": [
    "$$\\phi_{ext} = \\frac{r_{21}^p \\phi_1 - \\phi_2}{r_{21}^p - 1 }\\tag{2}$$"
   ]
  },
  {
   "cell_type": "code",
   "execution_count": 10,
   "metadata": {},
   "outputs": [],
   "source": [
    "def richardson_extrapolate(value_1, value_2, ratio_21, p):\n",
    "    \n",
    "    \"\"\" Estimate the zero grid spacing value using richardsons extrapolation and\n",
    "    two grids of reducing resolution (ie grid_1 is finest). The refinement ratio\n",
    "    is needed. The order of convergence, p, is also required.\n",
    "    \"\"\"\n",
    "    \n",
    "    f_exact = ( ratio_21**p * value_1 - value_2 ) / ( ratio_21**p - 1.0 )\n",
    "    \n",
    "    return f_exact"
   ]
  },
  {
   "cell_type": "markdown",
   "metadata": {},
   "source": [
    "\\begin{align}\n",
    "    er_{21}     &= \\frac{\\phi_1 - \\phi_2}{\\phi_1} \\tag{3a}\\\\\n",
    "    er_{21,ext} &= \\frac{\\phi_{ext} - \\phi_1}{\\phi_{ext}} \\tag{3b}\\\\\n",
    "\\end{align}"
   ]
  },
  {
   "cell_type": "code",
   "execution_count": 11,
   "metadata": {},
   "outputs": [],
   "source": [
    "def error_estimates(value_1, value_2, f_exact):\n",
    "    \n",
    "    \"\"\" This routine returns the relative error and extrapolated \n",
    "    relative error. The values of the grids and needed along \n",
    "    with the extrapolated value.\n",
    "    \"\"\"\n",
    "\n",
    "    # Get the approximate relative error\n",
    "    e21a =  abs( (value_1 - value_2) / value_1 )\n",
    "    \n",
    "    # Get the extrapolated relative error\n",
    "    e21ext = abs( ( f_exact - value_1 ) / f_exact )\n",
    "    \n",
    "    return e21a, e21ext"
   ]
  },
  {
   "cell_type": "markdown",
   "metadata": {},
   "source": [
    "#### Grid convergence Ratio, $GCI$\n",
    "\n",
    "\\begin{align}\n",
    "GCI_{fine} &= 1.25 \\frac{er_{21}}{r_{21}^p - 1}\\tag{4a}\\\\\n",
    "GCI_{coarse} &= 1.25 r_{21}^p \\frac{er_{21}}{r_{21}^p - 1}\\tag{4b}\\\\\n",
    "\\end{align}"
   ]
  },
  {
   "cell_type": "code",
   "execution_count": 12,
   "metadata": {},
   "outputs": [],
   "source": [
    "def gci(ratio_21, e21_approx, p):\n",
    "    \n",
    "    \"\"\" Calculate the fine and coarse grid convergence index for two grids of \n",
    "    reducing resolution (ie grid_1 is finest). The refinement ration between the \n",
    "    grids is required along with the approximate relative error (e21_approx) and \n",
    "    the order of convergence, p.\n",
    "    \"\"\"\n",
    "    \n",
    "    # Using a fixed safety factor as per Celik (2008)\n",
    "    safety_factor = 1.25\n",
    "    \n",
    "    # Calculate the gci\n",
    "    gci_fine = safety_factor * e21_approx / (ratio_21**p - 1.0)\n",
    "\n",
    "    gci_coarse = ratio_21**p * gci_fine\n",
    "    \n",
    "    return gci_fine, gci_coarse"
   ]
  },
  {
   "cell_type": "markdown",
   "metadata": {},
   "source": [
    "#### Asymptotic Ratio\n",
    "\n",
    "<!-- \\begin{align}\n",
    "GCI_{fine} &= 1.25 \\frac{er_{21}}{r_{21}^p - 1}\\\\\n",
    "GCI_{coarse} &= 1.25 r_{21}^p \\frac{er_{21}}{r_{21}^p - 1}\\\\\n",
    "\\end{align}\n",
    "-->\n",
    "$$AR = r_{21}^p \\frac{GCI_{21}}{GCI_{32}}$$\n"
   ]
  },
  {
   "cell_type": "code",
   "execution_count": 13,
   "metadata": {},
   "outputs": [],
   "source": [
    "def asymptotic_ratio(gci_fine_21, gci_fine_32, ratio_21, p):\n",
    "    \n",
    "    \"\"\" Calculate the ratio in succesive Eps as defined at the bottom of page\n",
    "    129 in Roache. If the ration is close to one then the asymptotic range has\n",
    "    been reached.\n",
    "    \"\"\"\n",
    "    \n",
    "    ratio = ratio_21**p * ( gci_fine_21 / gci_fine_32)\n",
    "    \n",
    "    return ratio"
   ]
  },
  {
   "cell_type": "markdown",
   "metadata": {},
   "source": [
    "### Test Data"
   ]
  },
  {
   "cell_type": "markdown",
   "metadata": {},
   "source": [
    "### Proc"
   ]
  },
  {
   "cell_type": "markdown",
   "metadata": {},
   "source": [
    "Examples from (_Celik 2008_)"
   ]
  },
  {
   "cell_type": "markdown",
   "metadata": {},
   "source": [
    "**Monotonic convergence**"
   ]
  },
  {
   "cell_type": "code",
   "execution_count": 14,
   "metadata": {},
   "outputs": [],
   "source": [
    "phi1 = 6.063\n",
    "phi2 = 5.972\n",
    "phi3 = 5.863\n",
    "r21 = 1.5\n",
    "r32 = 1.333"
   ]
  },
  {
   "cell_type": "code",
   "execution_count": 15,
   "metadata": {},
   "outputs": [
    {
     "data": {
      "text/plain": [
       "1.537048621203307"
      ]
     },
     "execution_count": 15,
     "metadata": {},
     "output_type": "execute_result"
    }
   ],
   "source": [
    "p = order_of_convergence(phi1,phi2,phi3,r21,r32)\n",
    "p"
   ]
  },
  {
   "cell_type": "code",
   "execution_count": 16,
   "metadata": {},
   "outputs": [
    {
     "data": {
      "text/plain": [
       "6.168211718640093"
      ]
     },
     "execution_count": 16,
     "metadata": {},
     "output_type": "execute_result"
    }
   ],
   "source": [
    "phi21extrapolation = richardson_extrapolate(phi1,phi2,r21,p)\n",
    "phi21extrapolation"
   ]
  },
  {
   "cell_type": "code",
   "execution_count": 17,
   "metadata": {},
   "outputs": [
    {
     "name": "stdout",
     "output_type": "stream",
     "text": [
      "[1.5009071416790254, 1.705708614413271]\n"
     ]
    }
   ],
   "source": [
    "err21aprox, err21extrap = error_estimates(phi1,phi2,phi21extrapolation)\n",
    "print(list(map(lambda x : x*100,[err21aprox, err21extrap])))"
   ]
  },
  {
   "cell_type": "code",
   "execution_count": 18,
   "metadata": {},
   "outputs": [
    {
     "name": "stdout",
     "output_type": "stream",
     "text": [
      "[2.169134888670891, 4.045268815769673]\n"
     ]
    }
   ],
   "source": [
    "gci21fine,gci21coarse = gci(r21,err21aprox,p)\n",
    "print(list(map(lambda x : x*100,[gci21fine,gci21coarse])))"
   ]
  },
  {
   "cell_type": "markdown",
   "metadata": {},
   "source": [
    "**Case with** $p < 1$"
   ]
  },
  {
   "cell_type": "code",
   "execution_count": 19,
   "metadata": {},
   "outputs": [],
   "source": [
    "def convergence(value1,value2,value3,ratio1,ratio2):\n",
    "    p = order_of_convergence(value1,value2,value3,ratio1,ratio2)\n",
    "    print('p = %1.2f' % p)\n",
    "    phi21extrapolation = richardson_extrapolate(value1,value2,ratio1,p)\n",
    "    print('phi21ext = %1.4f' % phi21extrapolation)\n",
    "    err21aprox, err21extrap = error_estimates(value1,value2,phi21extrapolation)\n",
    "    print('err21aprox = %1.1f%%, err21extrap = %1.1f%%' % \n",
    "      tuple(map(lambda x : x*100,[err21aprox, err21extrap])))\n",
    "    gci21fine,gci21coarse = gci(ratio1,err21aprox,p)\n",
    "    print('GCI21fine = %1.1f%%, GCI21coarse = %1.1f%%' % \n",
    "      tuple(map(lambda x : x*100,[gci21fine,gci21coarse])))"
   ]
  },
  {
   "cell_type": "code",
   "execution_count": 20,
   "metadata": {},
   "outputs": [],
   "source": [
    "r21 = 2.0\n",
    "r32 = 2.143\n",
    "phi1 = 10.788\n",
    "phi2 = 10.725\n",
    "phi3 = 10.605"
   ]
  },
  {
   "cell_type": "raw",
   "metadata": {},
   "source": [
    "p = 0.75\n",
    "phi21ext = 10.8801\n",
    "err21aprox = 0.6%, err21extrap = 0.8%\n",
    "GCI21fine = 1.1%, GCI21coarse = 1.8%"
   ]
  },
  {
   "cell_type": "code",
   "execution_count": 21,
   "metadata": {},
   "outputs": [
    {
     "name": "stdout",
     "output_type": "stream",
     "text": [
      "p = 0.75\n",
      "phi21ext = 10.8801\n",
      "err21aprox = 0.6%, err21extrap = 0.8%\n",
      "GCI21fine = 1.1%, GCI21coarse = 1.8%\n"
     ]
    }
   ],
   "source": [
    "convergence(phi1,phi2,phi3,r21,r32)"
   ]
  },
  {
   "cell_type": "markdown",
   "metadata": {},
   "source": [
    "**monotonic convergence, [Celik, 2008]**"
   ]
  },
  {
   "cell_type": "code",
   "execution_count": 22,
   "metadata": {},
   "outputs": [
    {
     "name": "stdout",
     "output_type": "stream",
     "text": [
      "p = 1.54\n",
      "phi21ext = 6.1682\n",
      "err21aprox = 1.5%, err21extrap = 1.7%\n",
      "GCI21fine = 2.2%, GCI21coarse = 4.0%\n",
      ".....=====.....\n",
      "p = 1.54\n",
      "phi21ext = 6.1682\n",
      "err21aprox = 1.5%, err21extrap = 1.7%\n",
      "GCI21fine = 2.2%, GCI21coarse = 4.0%\n"
     ]
    }
   ],
   "source": [
    "r21 = 1.50\n",
    "r32 = 1.333\n",
    "phi1 = 6.063\n",
    "phi2 = 5.972\n",
    "phi3 = 5.863\n",
    "\n",
    "p = order_of_convergence(phi1,phi2,phi3,r21,r32)\n",
    "print('p = %1.2f' % p)\n",
    "phi21extrapolation = richardson_extrapolate(phi1,phi2,r21,p)\n",
    "print('phi21ext = %1.4f' % phi21extrapolation)\n",
    "err21aprox, err21extrap = error_estimates(phi1,phi2,phi21extrapolation)\n",
    "print('err21aprox = %1.1f%%, err21extrap = %1.1f%%' % \n",
    "      tuple(map(lambda x : x*100,[err21aprox, err21extrap])))\n",
    "gci21fine,gci21coarse = gci(r21,err21aprox,p)\n",
    "print('GCI21fine = %1.1f%%, GCI21coarse = %1.1f%%' % \n",
    "      tuple(map(lambda x : x*100,[gci21fine,gci21coarse])))\n",
    "\n",
    "print('.....=====.....')\n",
    "# Procedimeinto\n",
    "convergence(phi1,phi2,phi3,r21,r32)"
   ]
  },
  {
   "cell_type": "markdown",
   "metadata": {},
   "source": [
    "### Comparatives\n",
    "\n",
    "![Celik2008a](./Celik2008a.png)\n",
    "\n",
    "_Celik,2008_"
   ]
  },
  {
   "cell_type": "markdown",
   "metadata": {},
   "source": [
    "### Error reports\n",
    "\n",
    "![Celik2008a](./Celik2008b.png)\n",
    "\n",
    "_Celik, 2008_: \"_Eq. 7_\" in Figure corresponds to the above Expression 4a $GCI_{fine}$"
   ]
  },
  {
   "cell_type": "code",
   "execution_count": null,
   "metadata": {},
   "outputs": [],
   "source": []
  },
  {
   "cell_type": "code",
   "execution_count": null,
   "metadata": {},
   "outputs": [],
   "source": []
  }
 ],
 "metadata": {
  "kernelspec": {
   "display_name": "Python 3 (ipykernel)",
   "language": "python",
   "name": "python3"
  },
  "language_info": {
   "codemirror_mode": {
    "name": "ipython",
    "version": 3
   },
   "file_extension": ".py",
   "mimetype": "text/x-python",
   "name": "python",
   "nbconvert_exporter": "python",
   "pygments_lexer": "ipython3",
   "version": "3.7.11"
  }
 },
 "nbformat": 4,
 "nbformat_minor": 4
}
