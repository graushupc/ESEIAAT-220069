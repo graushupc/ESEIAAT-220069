{
  "cells": [
    {
      "cell_type": "markdown",
      "metadata": {
        "id": "B6qgXvLA3ocm"
      },
      "source": [
        "# Convergence Validation\n",
        "\n",
        "G. Raush, 2025\\\n",
        "Department of Fluid Mechanics\\\n",
        "ESEIAAT-Terrassa\\\n",
        "UPC\n",
        "\n",
        "\n",
        "\n",
        "Performs several verification calculations given a file of grid spacings    and some observed quantity corresponding to each grid spacing.\n",
        "\n",
        "Computes:\n",
        "   - Order of convergence\n",
        "   - Richardson extrapolation to zero grid spacing\n",
        "   - grid convergence indices (GCI)\n",
        "\n",
        " --------------------------------------------------------------------------\n",
        "\n",
        "**Reference**:\n",
        "- [Celik, 2008] Celik, I. B., Ghia, U., Roache, P. J., Freitas, C. J., Coleman, H., & Raad, P. E. (2008). Procedure for estimation and reporting of uncertainty due to discretization in CFD applications. Journal of Fluids Engineering, Transactions of the ASME, 130(7), 0780011–0780014. https://doi.org/10.1115/1.2960953\n",
        "- Celik, I., Karatekin, O., 1997. Numerical Experiments on Application of Richardson Extrapolation With Nonuniform Grids. Journal of Fluids Engineering 119, 584–590. https://doi.org/10.1115/1.2819284\n",
        "- [Roache, 1998] Roache, P. J. (1998). Verification of codes and calculations. AIAA Journal, 36(5), 696–702. https://doi.org/10.2514/2.457\n",
        "- https://pypi.org/project/convergence/\n"
      ]
    },
    {
      "cell_type": "code",
      "execution_count": null,
      "metadata": {
        "id": "p18-SdYl3oco"
      },
      "outputs": [],
      "source": [
        "import math"
      ]
    },
    {
      "cell_type": "markdown",
      "metadata": {
        "id": "wo72wp0w3ocp"
      },
      "source": [
        "### Estimation of Discretization Error\n",
        "\n",
        "Representative cell could be defined over a grid size $h$, for three-dimensional numerics\n",
        "\n",
        "$$\n",
        "h = \\left[ \\frac{1}{N} \\sum_{i=1}^{N} \\left(\\Delta V_{i}\\right)\\right]^{1/3}\n",
        "$$\n",
        "\n",
        "For two dimensions,\n",
        "\n",
        "$$\n",
        "h = \\left[ \\frac{1}{N} \\sum_{i=1}^{N} \\left(\\Delta A_{i}\\right)\\right]^{1/2}\n",
        "$$\n"
      ]
    },
    {
      "cell_type": "markdown",
      "metadata": {
        "id": "hZAFv3iG3ocp"
      },
      "source": [
        "### Order of Convergence\n",
        "\n",
        "Theory behaind the GCI method and a listing of the expressions used in the Python functions included. All these expressions can be found in the reference literature. Primarily Celik [1997] and Roache [1998].\n",
        "\n",
        "Errors made between the chosen quantities of the different mesh conditions performed. The values of $\\phi$ can be pressure losses, lift coefficients, dimensionless length ratios of flow recovery. Average velocities of a velocity profile in a given section. $\\phi_i$ represents the selected quantity for the different meshes.\n",
        "\n",
        "\\begin{align}\n",
        "\\epsilon_{21} &= \\phi_2 - \\phi_1\\\\\n",
        "\\epsilon_{32} &= \\phi_3 - \\phi_2\\\\\n",
        "\\end{align}\n",
        "\n",
        "<!-- \\begin{equation}\n",
        "r = \\frac{\\epsilon_{32}}{\\epsilon_{21}}\n",
        "\\end{equation}\n",
        "-->"
      ]
    },
    {
      "cell_type": "markdown",
      "metadata": {
        "id": "SbxUPZ9B3ocp"
      },
      "source": [
        "Relative errors between"
      ]
    },
    {
      "cell_type": "markdown",
      "metadata": {
        "id": "KsdbQpEx3ocp"
      },
      "source": [
        "\\begin{align}\n",
        "e_r &= \\frac{\\epsilon_{32}}{\\epsilon_{21}}\\\\\n",
        "s &= \\frac{e_r}{|e_r|}\\\\\n",
        "\\end{align}"
      ]
    },
    {
      "cell_type": "markdown",
      "metadata": {
        "id": "vrel9DAA3ocp"
      },
      "source": [
        "$r_{ij}$ is the ratio between the mesh sizes $h_i/h_j$ where $h_1$ is the $h_{ref}$ reference of them."
      ]
    },
    {
      "cell_type": "markdown",
      "metadata": {
        "id": "DC2mxEk_3ocq"
      },
      "source": [
        "\\begin{align}\n",
        "r_{21} &= \\frac{h_{2}}{h_{1}}\\\\\n",
        "r_{32} &= \\frac{h_{3}}{h_{2}}\\\\\n",
        "\\end{align}"
      ]
    },
    {
      "cell_type": "markdown",
      "metadata": {
        "id": "DZVtw1Z_3ocq"
      },
      "source": [
        "$$ p_0 = \\frac{1}{\\ln r_{21}} \\left| \\ln \\left(\\left| e_r \\right| \\right) \\right|$$"
      ]
    },
    {
      "cell_type": "markdown",
      "metadata": {
        "id": "BJjtWsTK3ocq"
      },
      "source": [
        "$$ q = \\ln \\left( \\frac{r_{21}^{p_0}- s}{r_{32}^{p_0} - s } \\right) $$"
      ]
    },
    {
      "cell_type": "markdown",
      "metadata": {
        "id": "QHIEDFH93ocq"
      },
      "source": [
        "The order of discretization is obatained from interative algorithm. The final valeu is results of a linear interpolation where a relaxation term is used. In the case here used, $\\omega$ is an average value."
      ]
    },
    {
      "cell_type": "markdown",
      "metadata": {
        "id": "cktN7gWj3ocq"
      },
      "source": [
        "$$ p_1 = \\frac{1}{\\ln r_{21}} \\left| \\ln \\left(\\left| e_r \\right| + q \\right) \\right| \\tag{1}$$"
      ]
    },
    {
      "cell_type": "markdown",
      "metadata": {
        "id": "NhfKXJfs3ocq"
      },
      "source": [
        "Linear interpolation, $\\omega = 0.5$"
      ]
    },
    {
      "cell_type": "markdown",
      "metadata": {
        "id": "Bdxhut2x3ocq"
      },
      "source": [
        "$$ p_{1_{new}} = \\left(1 - \\omega\\right) p_0 + \\omega p_1 $$\n"
      ]
    },
    {
      "cell_type": "code",
      "execution_count": null,
      "metadata": {
        "id": "ACzQO62G3ocq"
      },
      "outputs": [],
      "source": [
        "def order_of_convergence (value_1, value_2, value_3, ratio_21, ratio_32,\n",
        "                          omega=0.5, tol=1.E-4): #, start_p=1.):\n",
        "\n",
        "    \"\"\" Calculate the order of convergence values generated with three\n",
        "    grids of reducing resolution (ie grid_1 is finest). The values of the grids\n",
        "    are needed along with the ratios between them.\n",
        "\n",
        "    An iterative method with under-relaxation is used to calculate the order\n",
        "    of convergence as the refinement ratio is not necessarily constant.\n",
        "\n",
        "    This has been modified to the method of Celik (2008).\n",
        "    \"\"\"\n",
        "\n",
        "    # Set a maximum residual and number of iterations\n",
        "    max_res = 1.E6\n",
        "\n",
        "    # calculate the epsilons.\n",
        "    epsilon21 = float(value_2 - value_1)\n",
        "    epsilon32 = float(value_3 - value_2)\n",
        "\n",
        "    # Calculate the fraction\n",
        "    epfrac = epsilon32 / epsilon21\n",
        "\n",
        "    # Get the signed unit, s\n",
        "    s = epfrac / abs(epfrac)\n",
        "\n",
        "    # Initial guess at order of convergence, p\n",
        "    p1 = (1. / math.log(ratio_21)) * abs(math.log(abs(epfrac))) # start_p\n",
        "\n",
        "    # Initialise the residual and number of iterations\n",
        "    residual = 1.\n",
        "    iterations = 0\n",
        "\n",
        "    while abs(residual) > tol:\n",
        "\n",
        "        # Break if it's all gone bad\n",
        "        if float(iterations) > max_res or residual > max_res:\n",
        "            ValueError('Residual out of range or too many iterations')\n",
        "\n",
        "        # Get the last value\n",
        "        p0 = p1\n",
        "\n",
        "        # Calculate q\n",
        "        q = math.log((ratio_21 ** p0 - s) / (ratio_32 ** p0 - s))\n",
        "\n",
        "        # Calculate the p iteration\n",
        "        pnew = (1. / math.log(ratio_21)) * abs(math.log(abs(epfrac)) + q)\n",
        "\n",
        "        # Calculate the relaxation step.\n",
        "        p1 = (1. - omega) * p0 + omega * pnew\n",
        "\n",
        "        residual = p1 - p0\n",
        "\n",
        "        iterations += 1\n",
        "\n",
        "    return p1"
      ]
    },
    {
      "cell_type": "markdown",
      "metadata": {
        "id": "bLju8jHr3ocq"
      },
      "source": [
        "### Richardson's Extrapolation"
      ]
    },
    {
      "cell_type": "markdown",
      "metadata": {
        "id": "t10_pAZD3ocq"
      },
      "source": [
        "$$\\phi_{ext} = \\frac{r_{21}^p \\phi_1 - \\phi_2}{r_{21}^p - 1 }\\tag{2}$$"
      ]
    },
    {
      "cell_type": "code",
      "execution_count": null,
      "metadata": {
        "id": "e3Ltugju3ocq"
      },
      "outputs": [],
      "source": [
        "def richardson_extrapolate(value_1, value_2, ratio_21, p):\n",
        "\n",
        "    \"\"\" Estimate the zero grid spacing value using richardsons extrapolation and\n",
        "    two grids of reducing resolution (ie grid_1 is finest). The refinement ratio\n",
        "    is needed. The order of convergence, p, is also required.\n",
        "    \"\"\"\n",
        "\n",
        "    f_exact = ( ratio_21**p * value_1 - value_2 ) / ( ratio_21**p - 1.0 )\n",
        "\n",
        "    return f_exact"
      ]
    },
    {
      "cell_type": "markdown",
      "metadata": {
        "id": "1uPOD2zX3ocq"
      },
      "source": [
        "\\begin{align}\n",
        "    er_{21}     &= \\frac{\\phi_1 - \\phi_2}{\\phi_1} \\tag{3a}\\\\\n",
        "    er_{21,ext} &= \\frac{\\phi_{ext} - \\phi_1}{\\phi_{ext}} \\tag{3b}\\\\\n",
        "\\end{align}"
      ]
    },
    {
      "cell_type": "code",
      "execution_count": null,
      "metadata": {
        "id": "SWEp0JwL3ocr"
      },
      "outputs": [],
      "source": [
        "def error_estimates(value_1, value_2, f_exact):\n",
        "\n",
        "    \"\"\" This routine returns the relative error and extrapolated\n",
        "    relative error. The values of the grids and needed along\n",
        "    with the extrapolated value.\n",
        "    \"\"\"\n",
        "\n",
        "    # Get the approximate relative error\n",
        "    e21a =  abs( (value_1 - value_2) / value_1 )\n",
        "\n",
        "    # Get the extrapolated relative error\n",
        "    e21ext = abs( ( f_exact - value_1 ) / f_exact )\n",
        "\n",
        "    return e21a, e21ext"
      ]
    },
    {
      "cell_type": "markdown",
      "metadata": {
        "id": "myQTG9BC3ocr"
      },
      "source": [
        "#### Grid convergence Ratio, $GCI$\n",
        "\n",
        "\\begin{align}\n",
        "GCI_{fine} &= 1.25 \\frac{er_{21}}{r_{21}^p - 1}\\tag{4a}\\\\\n",
        "GCI_{coarse} &= 1.25 r_{21}^p \\frac{er_{21}}{r_{21}^p - 1}\\tag{4b}\\\\\n",
        "\\end{align}"
      ]
    },
    {
      "cell_type": "code",
      "execution_count": null,
      "metadata": {
        "id": "lvGUKyxe3ocr"
      },
      "outputs": [],
      "source": [
        "def gci(ratio_21, e21_approx, p):\n",
        "\n",
        "    \"\"\" Calculate the fine and coarse grid convergence index for two grids of\n",
        "    reducing resolution (ie grid_1 is finest). The refinement ration between the\n",
        "    grids is required along with the approximate relative error (e21_approx) and\n",
        "    the order of convergence, p.\n",
        "    \"\"\"\n",
        "\n",
        "    # Using a fixed safety factor as per Celik (2008)\n",
        "    safety_factor = 1.25\n",
        "\n",
        "    # Calculate the gci\n",
        "    gci_fine = safety_factor * e21_approx / (ratio_21**p - 1.0)\n",
        "\n",
        "    gci_coarse = ratio_21**p * gci_fine\n",
        "\n",
        "    return gci_fine, gci_coarse"
      ]
    },
    {
      "cell_type": "markdown",
      "metadata": {
        "id": "Lpeil7Jv3ocr"
      },
      "source": [
        "#### Asymptotic Ratio\n",
        "\n",
        "<!-- \\begin{align}\n",
        "GCI_{fine} &= 1.25 \\frac{er_{21}}{r_{21}^p - 1}\\\\\n",
        "GCI_{coarse} &= 1.25 r_{21}^p \\frac{er_{21}}{r_{21}^p - 1}\\\\\n",
        "\\end{align}\n",
        "-->\n",
        "$$AR = r_{21}^p \\frac{GCI_{21}}{GCI_{32}}$$\n"
      ]
    },
    {
      "cell_type": "code",
      "execution_count": null,
      "metadata": {
        "id": "UDHo_z4Y3ocr"
      },
      "outputs": [],
      "source": [
        "def asymptotic_ratio(gci_fine_21, gci_fine_32, ratio_21, p):\n",
        "\n",
        "    \"\"\" Calculate the ratio in succesive Eps as defined at the bottom of page\n",
        "    129 in Roache. If the ration is close to one then the asymptotic range has\n",
        "    been reached.\n",
        "    \"\"\"\n",
        "\n",
        "    ratio = ratio_21**p * ( gci_fine_21 / gci_fine_32)\n",
        "\n",
        "    return ratio"
      ]
    },
    {
      "cell_type": "markdown",
      "metadata": {
        "id": "DIcMLd3I3ocr"
      },
      "source": [
        "### Test Data"
      ]
    },
    {
      "cell_type": "markdown",
      "metadata": {
        "id": "iO4vD3Ly3ocr"
      },
      "source": [
        "### Proc"
      ]
    },
    {
      "cell_type": "markdown",
      "metadata": {
        "id": "M6jCY3593ocr"
      },
      "source": [
        "Examples from (_Celik 2008_)"
      ]
    },
    {
      "cell_type": "markdown",
      "metadata": {
        "id": "d_5zSRXW3ocr"
      },
      "source": [
        "**Monotonic convergence**"
      ]
    },
    {
      "cell_type": "code",
      "execution_count": null,
      "metadata": {
        "id": "p3G8u0Hs3ocr"
      },
      "outputs": [],
      "source": [
        "phi1 = 6.063\n",
        "phi2 = 5.972\n",
        "phi3 = 5.863\n",
        "r21 = 1.5\n",
        "r32 = 1.333"
      ]
    },
    {
      "cell_type": "code",
      "execution_count": null,
      "metadata": {
        "id": "pfWcpZxu3ocr",
        "outputId": "81d734b3-5df8-41b6-d382-c24f85194b88"
      },
      "outputs": [
        {
          "data": {
            "text/plain": [
              "1.537048621203307"
            ]
          },
          "execution_count": 15,
          "metadata": {},
          "output_type": "execute_result"
        }
      ],
      "source": [
        "p = order_of_convergence(phi1,phi2,phi3,r21,r32)\n",
        "p"
      ]
    },
    {
      "cell_type": "code",
      "execution_count": null,
      "metadata": {
        "id": "-K738ZnV3ocs",
        "outputId": "32b59973-fa5c-4bd6-c34e-50d3c7462dd5"
      },
      "outputs": [
        {
          "data": {
            "text/plain": [
              "6.168211718640093"
            ]
          },
          "execution_count": 16,
          "metadata": {},
          "output_type": "execute_result"
        }
      ],
      "source": [
        "phi21extrapolation = richardson_extrapolate(phi1,phi2,r21,p)\n",
        "phi21extrapolation"
      ]
    },
    {
      "cell_type": "code",
      "execution_count": null,
      "metadata": {
        "id": "8FXkqTts3ocs",
        "outputId": "2a15ef91-9053-47ec-b252-ca45aa2c4700"
      },
      "outputs": [
        {
          "name": "stdout",
          "output_type": "stream",
          "text": [
            "[1.5009071416790254, 1.705708614413271]\n"
          ]
        }
      ],
      "source": [
        "err21aprox, err21extrap = error_estimates(phi1,phi2,phi21extrapolation)\n",
        "print(list(map(lambda x : x*100,[err21aprox, err21extrap])))"
      ]
    },
    {
      "cell_type": "code",
      "execution_count": null,
      "metadata": {
        "id": "BpB5LS_F3ocs",
        "outputId": "55d2208d-4c31-49ee-a06e-35bb261c0eac"
      },
      "outputs": [
        {
          "name": "stdout",
          "output_type": "stream",
          "text": [
            "[2.169134888670891, 4.045268815769673]\n"
          ]
        }
      ],
      "source": [
        "gci21fine,gci21coarse = gci(r21,err21aprox,p)\n",
        "print(list(map(lambda x : x*100,[gci21fine,gci21coarse])))"
      ]
    },
    {
      "cell_type": "markdown",
      "metadata": {
        "id": "fBakHJNC3oct"
      },
      "source": [
        "**Case with** $p < 1$"
      ]
    },
    {
      "cell_type": "code",
      "execution_count": null,
      "metadata": {
        "id": "UZJZ0nfZ3oct"
      },
      "outputs": [],
      "source": [
        "def convergence(value1,value2,value3,ratio1,ratio2):\n",
        "    p = order_of_convergence(value1,value2,value3,ratio1,ratio2)\n",
        "    print('p = %1.2f' % p)\n",
        "    phi21extrapolation = richardson_extrapolate(value1,value2,ratio1,p)\n",
        "    print('phi21ext = %1.4f' % phi21extrapolation)\n",
        "    err21aprox, err21extrap = error_estimates(value1,value2,phi21extrapolation)\n",
        "    print('err21aprox = %1.1f%%, err21extrap = %1.1f%%' %\n",
        "      tuple(map(lambda x : x*100,[err21aprox, err21extrap])))\n",
        "    gci21fine,gci21coarse = gci(ratio1,err21aprox,p)\n",
        "    print('GCI21fine = %1.1f%%, GCI21coarse = %1.1f%%' %\n",
        "      tuple(map(lambda x : x*100,[gci21fine,gci21coarse])))"
      ]
    },
    {
      "cell_type": "code",
      "execution_count": null,
      "metadata": {
        "id": "50rtatFV3oct"
      },
      "outputs": [],
      "source": [
        "r21 = 2.0\n",
        "r32 = 2.143\n",
        "phi1 = 10.788\n",
        "phi2 = 10.725\n",
        "phi3 = 10.605"
      ]
    },
    {
      "cell_type": "raw",
      "metadata": {
        "id": "juNHmOBU3oct"
      },
      "source": [
        "p = 0.75\n",
        "phi21ext = 10.8801\n",
        "err21aprox = 0.6%, err21extrap = 0.8%\n",
        "GCI21fine = 1.1%, GCI21coarse = 1.8%"
      ]
    },
    {
      "cell_type": "code",
      "execution_count": null,
      "metadata": {
        "id": "PnIQhelr3oct",
        "outputId": "1ce1b33e-7acb-4eae-e063-6117f9c106f5"
      },
      "outputs": [
        {
          "name": "stdout",
          "output_type": "stream",
          "text": [
            "p = 0.75\n",
            "phi21ext = 10.8801\n",
            "err21aprox = 0.6%, err21extrap = 0.8%\n",
            "GCI21fine = 1.1%, GCI21coarse = 1.8%\n"
          ]
        }
      ],
      "source": [
        "convergence(phi1,phi2,phi3,r21,r32)"
      ]
    },
    {
      "cell_type": "markdown",
      "metadata": {
        "id": "BMjTF5A73oct"
      },
      "source": [
        "**monotonic convergence, [Celik, 2008]**"
      ]
    },
    {
      "cell_type": "code",
      "execution_count": null,
      "metadata": {
        "id": "XnJurEnR3ocu",
        "outputId": "c2c320a9-53d0-4211-b3cb-0eb108110314"
      },
      "outputs": [
        {
          "name": "stdout",
          "output_type": "stream",
          "text": [
            "p = 1.54\n",
            "phi21ext = 6.1682\n",
            "err21aprox = 1.5%, err21extrap = 1.7%\n",
            "GCI21fine = 2.2%, GCI21coarse = 4.0%\n",
            ".....=====.....\n",
            "p = 1.54\n",
            "phi21ext = 6.1682\n",
            "err21aprox = 1.5%, err21extrap = 1.7%\n",
            "GCI21fine = 2.2%, GCI21coarse = 4.0%\n"
          ]
        }
      ],
      "source": [
        "r21 = 1.50\n",
        "r32 = 1.333\n",
        "phi1 = 6.063\n",
        "phi2 = 5.972\n",
        "phi3 = 5.863\n",
        "\n",
        "p = order_of_convergence(phi1,phi2,phi3,r21,r32)\n",
        "print('p = %1.2f' % p)\n",
        "phi21extrapolation = richardson_extrapolate(phi1,phi2,r21,p)\n",
        "print('phi21ext = %1.4f' % phi21extrapolation)\n",
        "err21aprox, err21extrap = error_estimates(phi1,phi2,phi21extrapolation)\n",
        "print('err21aprox = %1.1f%%, err21extrap = %1.1f%%' %\n",
        "      tuple(map(lambda x : x*100,[err21aprox, err21extrap])))\n",
        "gci21fine,gci21coarse = gci(r21,err21aprox,p)\n",
        "print('GCI21fine = %1.1f%%, GCI21coarse = %1.1f%%' %\n",
        "      tuple(map(lambda x : x*100,[gci21fine,gci21coarse])))\n",
        "\n",
        "print('.....=====.....')\n",
        "# Procedimeinto\n",
        "convergence(phi1,phi2,phi3,r21,r32)"
      ]
    },
    {
      "cell_type": "markdown",
      "metadata": {
        "id": "TGA01BD03ocu"
      },
      "source": [
        "### Comparatives\n",
        "\n",
        "![Celik2008a](https://github.com/graushupc/ESEIAAT-220069/blob/master/Celik2008a.png?raw=1)\n",
        "\n",
        "_Celik,2008_"
      ]
    },
    {
      "cell_type": "markdown",
      "metadata": {
        "id": "9xsybr-o3ocu"
      },
      "source": [
        "### Error reports\n",
        "\n",
        "![Celik2008a](https://github.com/graushupc/ESEIAAT-220069/blob/master/Celik2008b.png?raw=1)\n",
        "\n",
        "_Celik, 2008_: \"_Eq. 7_\" in Figure corresponds to the above Expression 4a $GCI_{fine}$"
      ]
    },
    {
      "cell_type": "code",
      "execution_count": null,
      "metadata": {
        "id": "l2H0C1pf3ocu"
      },
      "outputs": [],
      "source": []
    },
    {
      "cell_type": "code",
      "execution_count": null,
      "metadata": {
        "id": "ugdsZ0Mh3ocu"
      },
      "outputs": [],
      "source": []
    }
  ],
  "metadata": {
    "kernelspec": {
      "display_name": "Python 3 (ipykernel)",
      "language": "python",
      "name": "python3"
    },
    "language_info": {
      "codemirror_mode": {
        "name": "ipython",
        "version": 3
      },
      "file_extension": ".py",
      "mimetype": "text/x-python",
      "name": "python",
      "nbconvert_exporter": "python",
      "pygments_lexer": "ipython3",
      "version": "3.7.11"
    },
    "colab": {
      "provenance": []
    }
  },
  "nbformat": 4,
  "nbformat_minor": 0
}