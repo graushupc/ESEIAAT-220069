{
 "cells": [
  {
   "cell_type": "markdown",
   "metadata": {},
   "source": [
    "## Example of MMS"
   ]
  },
  {
   "cell_type": "markdown",
   "metadata": {},
   "source": [
    "Burges' Equation or Bateman–Burgers equation is a fundamental partial differential equation occurring in various areas of applied mathematics, such as:\n",
    "- fluid mechanics\n",
    "- nonlinear acoustics\n",
    "- gas dynamics\n",
    "- traffic flow. \n",
    "\n",
    "The equation was first introduced by Harry Bateman in 1915 and later studied by Johannes Martinus Burgers in 1948. More references at \n",
    "[Wikipedia](https://en.wikipedia.org/wiki/Burgers%27_equation)\n",
    "\n",
    "\n",
    "$$\\frac{\\partial u}{\\partial t} = -u \\frac{\\partial u}{\\partial x} + \\alpha \\frac{\\partial^2 u}{\\partial t^2}$$ \n",
    "\n",
    "In compact notation\n",
    "\n",
    "$$u_t = -u u_x + \\alpha u_{xx}$$\n",
    "\n",
    "Solution\n",
    "\n",
    "$$U(t,x) = A + \\sin\\left(x + C t\\right)$$\n",
    "\n",
    "valid for \n",
    "\n",
    "\\begin{align}\n",
    "\\left[x=0,t=0\\right]& \\implies& C=-A\\\\\n",
    "\\left[x=1,t=0\\right]& \\implies& \\alpha = \\cos(1)\\\\\n",
    "\\end{align}\n"
   ]
  },
  {
   "cell_type": "code",
   "execution_count": 25,
   "metadata": {},
   "outputs": [],
   "source": [
    "import numpy as np\n",
    "# import sympy as sp\n",
    "# import sympy  \n",
    "from sympy import * "
   ]
  },
  {
   "cell_type": "code",
   "execution_count": 18,
   "metadata": {},
   "outputs": [
    {
     "data": {
      "image/png": "[encoded data removed]",
      "text/latex": [
       "$\\displaystyle C \\cos{\\left(C t + x \\right)}$"
      ],
      "text/plain": [
       "C⋅cos(C⋅t + x)"
      ]
     },
     "execution_count": 18,
     "metadata": {},
     "output_type": "execute_result"
    }
   ],
   "source": [
    "A, C, x, t = symbols('A C x t')\n",
    "U = A + sin(x + C*t)\n",
    "Derivative(U,t).doit() "
   ]
  },
  {
   "cell_type": "code",
   "execution_count": 19,
   "metadata": {},
   "outputs": [
    {
     "data": {
      "image/png": "[encoded data removed]",
      "text/latex": [
       "$\\displaystyle \\left(A + \\sin{\\left(C t + x \\right)}\\right) \\cos{\\left(C t + x \\right)}$"
      ],
      "text/plain": [
       "(A + sin(C⋅t + x))⋅cos(C⋅t + x)"
      ]
     },
     "execution_count": 19,
     "metadata": {},
     "output_type": "execute_result"
    }
   ],
   "source": [
    "U*Derivative(U,x).doit()"
   ]
  },
  {
   "cell_type": "code",
   "execution_count": 21,
   "metadata": {},
   "outputs": [
    {
     "data": {
      "image/png": "[encoded data removed]",
      "text/latex": [
       "$\\displaystyle - \\alpha \\sin{\\left(C t + x \\right)}$"
      ],
      "text/plain": [
       "-α⋅sin(C⋅t + x)"
      ]
     },
     "execution_count": 21,
     "metadata": {},
     "output_type": "execute_result"
    }
   ],
   "source": [
    "alpha = Symbol('alpha')\n",
    "alpha * Derivative(U,x,2).doit()"
   ]
  },
  {
   "cell_type": "markdown",
   "metadata": {},
   "source": [
    "Burges equation"
   ]
  },
  {
   "cell_type": "code",
   "execution_count": 39,
   "metadata": {},
   "outputs": [
    {
     "data": {
      "image/png": "[encoded data removed]",
      "text/latex": [
       "$\\displaystyle \\frac{\\partial}{\\partial t} u{\\left(t,x \\right)} = \\alpha \\frac{\\partial^{2}}{\\partial x^{2}} u{\\left(t,x \\right)} - u{\\left(t,x \\right)} \\frac{\\partial}{\\partial x} u{\\left(t,x \\right)}$"
      ],
      "text/plain": [
       "                  2                               \n",
       "∂                ∂                     ∂          \n",
       "──(u(t, x)) = α⋅───(u(t, x)) - u(t, x)⋅──(u(t, x))\n",
       "∂t                2                    ∂x         \n",
       "                ∂x                                "
      ]
     },
     "execution_count": 39,
     "metadata": {},
     "output_type": "execute_result"
    }
   ],
   "source": [
    "u = Function('u')(t,x)\n",
    "BurgesEq = Eq(Derivative(u,t),  - u*Derivative(u,x) + alpha * Derivative(u,x,2))\n",
    "BurgesEq"
   ]
  },
  {
   "cell_type": "code",
   "execution_count": 40,
   "metadata": {},
   "outputs": [
    {
     "data": {
      "image/png": "[encoded data removed]",
      "text/latex": [
       "$\\displaystyle \\frac{\\partial}{\\partial t} \\left(A + \\sin{\\left(C t + x \\right)}\\right) = \\alpha \\frac{\\partial^{2}}{\\partial x^{2}} \\left(A + \\sin{\\left(C t + x \\right)}\\right) + \\left(- A - \\sin{\\left(C t + x \\right)}\\right) \\frac{\\partial}{\\partial x} \\left(A + \\sin{\\left(C t + x \\right)}\\right)$"
      ],
      "text/plain": [
       "                           2                                                  \n",
       "∂                         ∂                                          ∂        \n",
       "──(A + sin(C⋅t + x)) = α⋅───(A + sin(C⋅t + x)) + (-A - sin(C⋅t + x))⋅──(A + si\n",
       "∂t                         2                                         ∂x       \n",
       "                         ∂x                                                   \n",
       "\n",
       "           \n",
       "           \n",
       "n(C⋅t + x))\n",
       "           \n",
       "           "
      ]
     },
     "execution_count": 40,
     "metadata": {},
     "output_type": "execute_result"
    }
   ],
   "source": [
    "BurgesEqU = Eq(Derivative(U,t),  - U*Derivative(U,x) + alpha * Derivative(U,x,2))\n",
    "BurgesEqU"
   ]
  },
  {
   "cell_type": "code",
   "execution_count": 41,
   "metadata": {},
   "outputs": [
    {
     "data": {
      "image/png": "[encoded data removed]",
      "text/latex": [
       "$\\displaystyle C \\cos{\\left(C t + x \\right)} = - \\alpha \\sin{\\left(C t + x \\right)} + \\left(- A - \\sin{\\left(C t + x \\right)}\\right) \\cos{\\left(C t + x \\right)}$"
      ],
      "text/plain": [
       "C⋅cos(C⋅t + x) = -α⋅sin(C⋅t + x) + (-A - sin(C⋅t + x))⋅cos(C⋅t + x)"
      ]
     },
     "execution_count": 41,
     "metadata": {},
     "output_type": "execute_result"
    }
   ],
   "source": [
    "BurgesEqU.doit()"
   ]
  },
  {
   "cell_type": "code",
   "execution_count": 43,
   "metadata": {},
   "outputs": [
    {
     "data": {
      "image/png": "[encoded data removed]",
      "text/latex": [
       "$\\displaystyle C \\cos{\\left(C t \\right)} = - \\alpha \\sin{\\left(C t \\right)} + \\left(- A - \\sin{\\left(C t \\right)}\\right) \\cos{\\left(C t \\right)}$"
      ],
      "text/plain": [
       "C⋅cos(C⋅t) = -α⋅sin(C⋅t) + (-A - sin(C⋅t))⋅cos(C⋅t)"
      ]
     },
     "execution_count": 43,
     "metadata": {},
     "output_type": "execute_result"
    }
   ],
   "source": [
    "BurgesEqU.subs(x,0).doit()"
   ]
  },
  {
   "cell_type": "markdown",
   "metadata": {},
   "source": [
    "### Source term _Q(t,x)_"
   ]
  },
  {
   "cell_type": "markdown",
   "metadata": {},
   "source": [
    "Source term $Q(t,x)$ will be added to the Burges equation for $u(t,x)$\n",
    "$$L(u) = u_t + u u_x - \\alpha u_{xx} = 0$$"
   ]
  },
  {
   "cell_type": "markdown",
   "metadata": {},
   "source": [
    "The source term is $L(\\cdot)$ over $U(t,x)$\n",
    "\n",
    "$$Q(t,x) = L(U(t,x)) = U_t +U U_x - \\alpha U_{xx}$$"
   ]
  },
  {
   "cell_type": "code",
   "execution_count": 26,
   "metadata": {},
   "outputs": [],
   "source": [
    "Q = Derivative(U,t) + U * Derivative(U,x) - alpha * Derivative(U,x,2)"
   ]
  },
  {
   "cell_type": "code",
   "execution_count": 27,
   "metadata": {},
   "outputs": [
    {
     "data": {
      "image/png": "[encoded data removed]",
      "text/latex": [
       "$\\displaystyle - \\alpha \\frac{\\partial^{2}}{\\partial x^{2}} \\left(A + \\sin{\\left(C t + x \\right)}\\right) + \\left(A + \\sin{\\left(C t + x \\right)}\\right) \\frac{\\partial}{\\partial x} \\left(A + \\sin{\\left(C t + x \\right)}\\right) + \\frac{\\partial}{\\partial t} \\left(A + \\sin{\\left(C t + x \\right)}\\right)$"
      ],
      "text/plain": [
       "      2                                                                       \n",
       "     ∂                                         ∂                      ∂       \n",
       "- α⋅───(A + sin(C⋅t + x)) + (A + sin(C⋅t + x))⋅──(A + sin(C⋅t + x)) + ──(A + s\n",
       "      2                                        ∂x                     ∂t      \n",
       "    ∂x                                                                        \n",
       "\n",
       "            \n",
       "            \n",
       "in(C⋅t + x))\n",
       "            \n",
       "            "
      ]
     },
     "execution_count": 27,
     "metadata": {},
     "output_type": "execute_result"
    }
   ],
   "source": [
    "Q"
   ]
  },
  {
   "cell_type": "code",
   "execution_count": 28,
   "metadata": {},
   "outputs": [
    {
     "data": {
      "image/png": "[encoded data removed]",
      "text/latex": [
       "$\\displaystyle C \\cos{\\left(C t + x \\right)} + \\alpha \\sin{\\left(C t + x \\right)} + \\left(A + \\sin{\\left(C t + x \\right)}\\right) \\cos{\\left(C t + x \\right)}$"
      ],
      "text/plain": [
       "C⋅cos(C⋅t + x) + α⋅sin(C⋅t + x) + (A + sin(C⋅t + x))⋅cos(C⋅t + x)"
      ]
     },
     "execution_count": 28,
     "metadata": {},
     "output_type": "execute_result"
    }
   ],
   "source": [
    "Q.doit()"
   ]
  },
  {
   "cell_type": "markdown",
   "metadata": {},
   "source": [
    "$$u_t = -u u_x + u_{xx} + Q(t,x)$$"
   ]
  },
  {
   "cell_type": "markdown",
   "metadata": {},
   "source": [
    "The numerical solution will be affected for the numerical error of the code "
   ]
  },
  {
   "cell_type": "markdown",
   "metadata": {},
   "source": [
    "Try to do the same width \n",
    "\\begin{align}\n",
    "    \\frac{\\partial T}{\\partial t} - \\kappa \\nabla^2 T &= B\\\\\n",
    "    T &= -4 x (x-1) (x -3/4) (x - 1/4)\\\\\n",
    "\\end{align}\n",
    "\n",
    "$\\kappa$ is "
   ]
  },
  {
   "cell_type": "markdown",
   "metadata": {},
   "source": [
    "Plot $B$ and $T$"
   ]
  },
  {
   "cell_type": "code",
   "execution_count": null,
   "metadata": {},
   "outputs": [],
   "source": []
  }
 ],
 "metadata": {
  "kernelspec": {
   "display_name": "Python 3",
   "language": "python",
   "name": "python3"
  },
  "language_info": {
   "codemirror_mode": {
    "name": "ipython",
    "version": 3
   },
   "file_extension": ".py",
   "mimetype": "text/x-python",
   "name": "python",
   "nbconvert_exporter": "python",
   "pygments_lexer": "ipython3",
   "version": "3.7.5"
  }
 },
 "nbformat": 4,
 "nbformat_minor": 4
}
