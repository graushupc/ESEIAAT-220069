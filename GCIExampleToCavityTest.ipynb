{
  "nbformat": 4,
  "nbformat_minor": 0,
  "metadata": {
    "colab": {
      "provenance": [],
      "authorship_tag": "ABX9TyMd3NpgwOH1nbMnH8ENwsS5",
      "include_colab_link": true
    },
    "kernelspec": {
      "name": "python3",
      "display_name": "Python 3"
    },
    "language_info": {
      "name": "python"
    }
  },
  "cells": [
    {
      "cell_type": "markdown",
      "metadata": {
        "id": "view-in-github",
        "colab_type": "text"
      },
      "source": [
        "<a href=\"https://colab.research.google.com/github/graushupc/ESEIAAT-220069/blob/master/GCIExampleToCavityTest.ipynb\" target=\"_parent\"><img src=\"https://colab.research.google.com/assets/colab-badge.svg\" alt=\"Open In Colab\"/></a>"
      ]
    },
    {
      "cell_type": "markdown",
      "source": [
        "## GCI Example\n",
        "### _G. Raush, 2025_"
      ],
      "metadata": {
        "id": "zXINvcxfC6qu"
      }
    },
    {
      "cell_type": "markdown",
      "source": [
        "Paso necesario para la instalación del package de análisis\n",
        "\n"
      ],
      "metadata": {
        "id": "7Q0zyw7xe1fL"
      }
    },
    {
      "cell_type": "code",
      "source": [
        "!pip install convergence"
      ],
      "metadata": {
        "colab": {
          "base_uri": "https://localhost:8080/"
        },
        "id": "V-52ta3HdDTi",
        "outputId": "bf9640e5-47c0-4e92-df88-57b7a8a7d4ab"
      },
      "execution_count": 3,
      "outputs": [
        {
          "output_type": "stream",
          "name": "stdout",
          "text": [
            "Collecting convergence\n",
            "  Downloading convergence-0.6.7-py3-none-any.whl.metadata (10 kB)\n",
            "Downloading convergence-0.6.7-py3-none-any.whl (29 kB)\n",
            "Installing collected packages: convergence\n",
            "Successfully installed convergence-0.6.7\n"
          ]
        }
      ]
    },
    {
      "cell_type": "markdown",
      "source": [
        "Importación del paquete instalado. Se intala el constructor de clase `Convergence`"
      ],
      "metadata": {
        "id": "ZSlH2PK_fa2n"
      }
    },
    {
      "cell_type": "code",
      "source": [
        "from convergence import Convergence"
      ],
      "metadata": {
        "id": "Hzdl3e-nca8t"
      },
      "execution_count": 4,
      "outputs": []
    },
    {
      "cell_type": "markdown",
      "source": [
        "Descripción de los datos de malla.\n",
        "$(h_n, f_n)$\n",
        "\n",
        "siendo :\n",
        "- $h_n$ : el tamaño medible de celda\n",
        "- $f_n$ : variable resultado observable del caso\n",
        "\n",
        "Son necesarios tres pares , una por cada malla. $f_n$ puede ser la diferencia de presión entre entrada y salida del caso."
      ],
      "metadata": {
        "id": "Ioby9no7fsje"
      }
    },
    {
      "cell_type": "code",
      "source": [
        "grids = [(0.001, 0.0203104), (0.00125, 0.0203016), (0.002, 0.01886374)]"
      ],
      "metadata": {
        "id": "BA_AjZqICbjz"
      },
      "execution_count": null,
      "outputs": []
    },
    {
      "cell_type": "code",
      "source": [],
      "metadata": {
        "id": "WcLzpxiSfrS2"
      },
      "execution_count": null,
      "outputs": []
    },
    {
      "cell_type": "markdown",
      "source": [
        "Instanciación de la clase"
      ],
      "metadata": {
        "id": "98EIU-3jgmda"
      }
    },
    {
      "cell_type": "code",
      "source": [
        "convergence = Convergence()"
      ],
      "metadata": {
        "id": "rSWZXPPKdtjZ"
      },
      "execution_count": 20,
      "outputs": []
    },
    {
      "cell_type": "markdown",
      "source": [
        "Incorporación de los parámetros de mallas."
      ],
      "metadata": {
        "id": "X59g6p7egv1N"
      }
    },
    {
      "cell_type": "code",
      "source": [
        "convergence.add_grids(grids)"
      ],
      "metadata": {
        "id": "dL3o7mHmd_WI"
      },
      "execution_count": 21,
      "outputs": []
    },
    {
      "cell_type": "markdown",
      "source": [
        "Resultados del análisis. Interesa que la realción asintótica converla a la unidad."
      ],
      "metadata": {
        "id": "FbQlSLNmg2gN"
      }
    },
    {
      "cell_type": "code",
      "source": [
        "print(convergence)"
      ],
      "metadata": {
        "colab": {
          "base_uri": "https://localhost:8080/"
        },
        "id": "7FeainRjd1xc",
        "outputId": "7ed22102-e0e8-4ced-f9c9-a296a8cdf064"
      },
      "execution_count": 23,
      "outputs": [
        {
          "output_type": "stream",
          "name": "stdout",
          "text": [
            "\n",
            "Number of grids to be examined = 3 \n",
            "\n",
            "     Grid Size     Quantity \n",
            "\n",
            "     0.001000      0.020310 \n",
            "     0.001250      0.020302 \n",
            "     0.002000      0.018864 \n",
            "\n",
            "\n",
            "Discretisation errors for fine grids: \n",
            "\n",
            "       Grids |     e_approx |     e_extrap |      f_exact |   gci_coarse | \n",
            " ========================================================================= \n",
            "       1 2 3 |     0.000433 |     0.000044 |     0.020311 |     0.000597 | \n",
            " ------------------------------------------------------------------------- \n",
            "\n",
            "       Grids |     gci_fine |            p |          r21 |          r32 | \n",
            " ========================================================================= \n",
            "       1 2 3 |     0.000055 |    10.649704 |     1.250000 |     1.600000 | \n",
            " ------------------------------------------------------------------------- \n",
            "\n",
            "\n",
            "Discretisation errors for coarse grids: \n",
            "\n",
            "       Grids |     e_approx |     e_extrap |      f_exact |   gci_coarse | \n",
            " ========================================================================= \n",
            "       1 2 3 |     0.070825 |     0.000478 |     0.020311 |     0.089129 | \n",
            " ------------------------------------------------------------------------- \n",
            "\n",
            "       Grids |     gci_fine |            p |          r21 |          r32 | \n",
            " ========================================================================= \n",
            "       1 2 3 |     0.000597 |    10.649704 |     1.250000 |     1.600000 | \n",
            " ------------------------------------------------------------------------- \n",
            "\n",
            "\n",
            "Asymptotic ratio test: \n",
            "\n",
            "           Grids | Asymptotic ratio | \n",
            " ==================================== \n",
            "           1 2 3 |         0.999567 | \n",
            " ------------------------------------ \n",
            "\n"
          ]
        }
      ]
    },
    {
      "cell_type": "markdown",
      "source": [
        "## Ejemplo de cálculo no iterativo"
      ],
      "metadata": {
        "id": "_2_8Zwbfd2Fm"
      }
    },
    {
      "cell_type": "code",
      "execution_count": null,
      "metadata": {
        "id": "v9pLy1qHCEIo"
      },
      "outputs": [],
      "source": [
        "f_1d = 0.4971; #Characteristic value of fine mesh (drag coef)\n",
        "f_2d = 0.4940; #Characteristic value of medium mesh (drag coef)\n",
        "f_3d = 0.4904; #Characteristic value of coarse mesh (drag coef)\n",
        "f_1l = -0.4055; #Characteristic value of fine mesh (lift coef)\n",
        "f_2l = -0.3343; #Characteristic value of medium mesh (lift coef)\n",
        "f_3l = -0.2889; #Characteristic value of coarse mesh (lift coef)\n",
        "h_1 = 1 ; #Normalized Grid Spacing of fine mesh\n",
        "h_2 = 2;  #1.3; #Normalized Grid Spacing of medium mesh\n",
        "h_3 = 4;  # 1.69; #Normalized Grid Spacing of coarsee mesh\n",
        "Fe = 1.25; #Securityfactor\n",
        "r = h_2/h_1; #Refinement ratio"
      ]
    },
    {
      "cell_type": "code",
      "source": [],
      "metadata": {
        "id": "r51wzgEed0Ls"
      },
      "execution_count": null,
      "outputs": []
    },
    {
      "cell_type": "markdown",
      "source": [
        "Calculate the order of convergence, p, using:"
      ],
      "metadata": {
        "id": "ne31xSQaDJck"
      }
    },
    {
      "cell_type": "code",
      "source": [
        "p = np.abs(np.log((f_3d-f_2d)/(f_2d-f_1d))/np.log(r))\n",
        "p"
      ],
      "metadata": {
        "colab": {
          "base_uri": "https://localhost:8080/"
        },
        "id": "nSDLDIebCK4l",
        "outputId": "8488f701-91e3-4652-8a33-01a15827db40"
      },
      "execution_count": null,
      "outputs": [
        {
          "output_type": "execute_result",
          "data": {
            "text/plain": [
              "0.2157286910554378"
            ]
          },
          "metadata": {},
          "execution_count": 6
        }
      ]
    },
    {
      "cell_type": "markdown",
      "source": [
        "Perform a Richardson extrapolation to predict the value at h=0:"
      ],
      "metadata": {
        "id": "r-Mz0kW3DOUR"
      }
    },
    {
      "cell_type": "code",
      "source": [
        "f_0d = f_1d+((f_1d-f_2d)/(r**(p)-1))"
      ],
      "metadata": {
        "id": "_f3hkFlvCOjR"
      },
      "execution_count": null,
      "outputs": []
    },
    {
      "cell_type": "code",
      "source": [
        "f_0d"
      ],
      "metadata": {
        "colab": {
          "base_uri": "https://localhost:8080/"
        },
        "id": "kK5KjxViCmAq",
        "outputId": "9c9dcef3-b4de-489c-d247-fc9cda4862ab"
      },
      "execution_count": null,
      "outputs": [
        {
          "output_type": "execute_result",
          "data": {
            "text/plain": [
              "0.5163199999999999"
            ]
          },
          "metadata": {},
          "execution_count": 9
        }
      ]
    },
    {
      "cell_type": "markdown",
      "source": [
        "Calculate grid convergence index (GCI) for the medium and fine refinement levels:"
      ],
      "metadata": {
        "id": "b06a_B6DDcty"
      }
    },
    {
      "cell_type": "code",
      "source": [
        "GCI_12_d=(100*Fe*np.abs((f_1d-f_2d)/f_1d))/((r**p)-1)\n",
        "GCI_23_d=(100*Fe*np.abs((f_2d-f_3d)/f_2d))/((r**p)-1)"
      ],
      "metadata": {
        "id": "MwWcgBoFCqqu"
      },
      "execution_count": null,
      "outputs": []
    },
    {
      "cell_type": "markdown",
      "source": [
        "Verify that the grids fall within the asymptotic range of convergence by performing a check."
      ],
      "metadata": {
        "id": "_wYg520oDhyQ"
      }
    },
    {
      "cell_type": "code",
      "source": [
        "x_1d = (GCI_23_d)/((r**p)*GCI_12_d)\n",
        "x_1d"
      ],
      "metadata": {
        "colab": {
          "base_uri": "https://localhost:8080/"
        },
        "id": "ET-L9onACzPW",
        "outputId": "2e37c645-7f5f-46a3-8c14-030cc143dea8"
      },
      "execution_count": null,
      "outputs": [
        {
          "output_type": "execute_result",
          "data": {
            "text/plain": [
              "1.0062753036437249"
            ]
          },
          "metadata": {},
          "execution_count": 11
        }
      ]
    },
    {
      "cell_type": "markdown",
      "source": [
        "## Referencias\n",
        "\n",
        "- [Examining Spatial (Grid) Convergence](https://www.grc.nasa.gov/www/wind/valid/tutorial/spatconv.html)\n",
        "- Celik, I., Ghia, U., Roache, P.J., Freitas, C., Coloman, H., Raad, P., 2008. Procedure of Estimation and Reporting of Uncertainty Due to Discretization in CFD Applications. J. Fluids Eng. 130, 078001. https://doi.org/10.1115/1.2960953\n",
        "- Cadafalch, J., Perez-Segarra, C.D., Consul, R., Oliva, A., 2002. Verification of Finite Volume Computations on Steady-State Fluid Flow and Heat Transfer. Journal of Fluids Engineering 124, 11–21. https://doi.org/10.1115/1.1436092\n"
      ],
      "metadata": {
        "id": "Nwma4Yw8C42v"
      }
    },
    {
      "cell_type": "code",
      "source": [],
      "metadata": {
        "id": "nKaydcxdnesn"
      },
      "execution_count": null,
      "outputs": []
    }
  ]
}